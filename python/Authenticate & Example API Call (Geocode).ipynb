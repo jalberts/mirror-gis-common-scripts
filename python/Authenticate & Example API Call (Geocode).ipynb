{
 "cells": [
  {
   "cell_type": "markdown",
   "metadata": {},
   "source": [
    "# Authenticate & Example API Call (geocode)\n",
    "An example of authenticating using UMICH license and performing a basic geocode operation using the Python API.\n",
    "\n",
    "Requires:\n",
    "\n",
    "- ArcGIS Pro installed\n",
    "- Logged into ArcGIS Pro using organization account (UMICH)\n",
    "- ArcGIS Pro does not need to be running; your authentication just has to not have expired."
   ]
  },
  {
   "cell_type": "markdown",
   "metadata": {},
   "source": [
    "## Import required modules and packages"
   ]
  },
  {
   "cell_type": "code",
   "execution_count": 1,
   "metadata": {},
   "outputs": [],
   "source": [
    "# Required modules\n",
    "import arcpy\n",
    "import pandas as pd\n",
    "\n",
    "# ArcGIS packages\n",
    "from arcgis.gis import GIS\n",
    "from arcgis.geocoding import get_geocoders, batch_geocode, geocode\n",
    "gis = GIS('pro')"
   ]
  },
  {
   "cell_type": "markdown",
   "metadata": {},
   "source": [
    "## EDA of Data"
   ]
  },
  {
   "cell_type": "markdown",
   "metadata": {},
   "source": [
    "### Read & Examine Data\n",
    "Using the Tecumseh, MI data from OpenAddresses data set (midwest data set)."
   ]
  },
  {
   "cell_type": "code",
   "execution_count": 2,
   "metadata": {},
   "outputs": [
    {
     "name": "stdout",
     "output_type": "stream",
     "text": [
      "Initial dataframe shape: (3706, 11)\n"
     ]
    }
   ],
   "source": [
    "df_mi_tecumseh = pd.read_csv(\"./example-data/city_of_tecumseh.csv\", keep_default_na=False)\n",
    "print(\"Initial dataframe shape:\", df_mi_tecumseh.shape)"
   ]
  },
  {
   "cell_type": "code",
   "execution_count": 3,
   "metadata": {},
   "outputs": [
    {
     "data": {
      "text/html": [
       "<div>\n",
       "<style scoped>\n",
       "    .dataframe tbody tr th:only-of-type {\n",
       "        vertical-align: middle;\n",
       "    }\n",
       "\n",
       "    .dataframe tbody tr th {\n",
       "        vertical-align: top;\n",
       "    }\n",
       "\n",
       "    .dataframe thead th {\n",
       "        text-align: right;\n",
       "    }\n",
       "</style>\n",
       "<table border=\"1\" class=\"dataframe\">\n",
       "  <thead>\n",
       "    <tr style=\"text-align: right;\">\n",
       "      <th></th>\n",
       "      <th>LON</th>\n",
       "      <th>LAT</th>\n",
       "      <th>NUMBER</th>\n",
       "      <th>STREET</th>\n",
       "      <th>UNIT</th>\n",
       "      <th>CITY</th>\n",
       "      <th>DISTRICT</th>\n",
       "      <th>REGION</th>\n",
       "      <th>POSTCODE</th>\n",
       "      <th>ID</th>\n",
       "      <th>HASH</th>\n",
       "    </tr>\n",
       "  </thead>\n",
       "  <tbody>\n",
       "    <tr>\n",
       "      <th>0</th>\n",
       "      <td>-83.930694</td>\n",
       "      <td>42.020842</td>\n",
       "      <td>4587</td>\n",
       "      <td>MACON RD</td>\n",
       "      <td></td>\n",
       "      <td></td>\n",
       "      <td></td>\n",
       "      <td></td>\n",
       "      <td></td>\n",
       "      <td></td>\n",
       "      <td>0f1d71c71bb84f25</td>\n",
       "    </tr>\n",
       "    <tr>\n",
       "      <th>1</th>\n",
       "      <td>-83.931370</td>\n",
       "      <td>42.020581</td>\n",
       "      <td>952</td>\n",
       "      <td>MACON RD</td>\n",
       "      <td></td>\n",
       "      <td></td>\n",
       "      <td></td>\n",
       "      <td></td>\n",
       "      <td></td>\n",
       "      <td></td>\n",
       "      <td>e063eaa401c7e1d5</td>\n",
       "    </tr>\n",
       "    <tr>\n",
       "      <th>2</th>\n",
       "      <td>-83.932255</td>\n",
       "      <td>42.020563</td>\n",
       "      <td>944</td>\n",
       "      <td>MACON RD</td>\n",
       "      <td></td>\n",
       "      <td></td>\n",
       "      <td></td>\n",
       "      <td></td>\n",
       "      <td></td>\n",
       "      <td></td>\n",
       "      <td>c6b1c6f444a0684c</td>\n",
       "    </tr>\n",
       "    <tr>\n",
       "      <th>3</th>\n",
       "      <td>-83.933133</td>\n",
       "      <td>42.020526</td>\n",
       "      <td>940</td>\n",
       "      <td>MACON RD</td>\n",
       "      <td></td>\n",
       "      <td></td>\n",
       "      <td></td>\n",
       "      <td></td>\n",
       "      <td></td>\n",
       "      <td></td>\n",
       "      <td>83e2941141f61fba</td>\n",
       "    </tr>\n",
       "    <tr>\n",
       "      <th>4</th>\n",
       "      <td>-83.935600</td>\n",
       "      <td>42.020365</td>\n",
       "      <td>700</td>\n",
       "      <td>MACON RD BLK</td>\n",
       "      <td></td>\n",
       "      <td></td>\n",
       "      <td></td>\n",
       "      <td></td>\n",
       "      <td></td>\n",
       "      <td></td>\n",
       "      <td>40ffdb3c081d2003</td>\n",
       "    </tr>\n",
       "  </tbody>\n",
       "</table>\n",
       "</div>"
      ],
      "text/plain": [
       "         LON        LAT NUMBER        STREET UNIT CITY DISTRICT REGION  \\\n",
       "0 -83.930694  42.020842   4587      MACON RD                             \n",
       "1 -83.931370  42.020581    952      MACON RD                             \n",
       "2 -83.932255  42.020563    944      MACON RD                             \n",
       "3 -83.933133  42.020526    940      MACON RD                             \n",
       "4 -83.935600  42.020365    700  MACON RD BLK                             \n",
       "\n",
       "  POSTCODE ID              HASH  \n",
       "0              0f1d71c71bb84f25  \n",
       "1              e063eaa401c7e1d5  \n",
       "2              c6b1c6f444a0684c  \n",
       "3              83e2941141f61fba  \n",
       "4              40ffdb3c081d2003  "
      ]
     },
     "execution_count": 3,
     "metadata": {},
     "output_type": "execute_result"
    }
   ],
   "source": [
    "df_mi_tecumseh.head()"
   ]
  },
  {
   "cell_type": "markdown",
   "metadata": {},
   "source": [
    "### Add state variable with default value"
   ]
  },
  {
   "cell_type": "code",
   "execution_count": 4,
   "metadata": {},
   "outputs": [
    {
     "data": {
      "text/html": [
       "<div>\n",
       "<style scoped>\n",
       "    .dataframe tbody tr th:only-of-type {\n",
       "        vertical-align: middle;\n",
       "    }\n",
       "\n",
       "    .dataframe tbody tr th {\n",
       "        vertical-align: top;\n",
       "    }\n",
       "\n",
       "    .dataframe thead th {\n",
       "        text-align: right;\n",
       "    }\n",
       "</style>\n",
       "<table border=\"1\" class=\"dataframe\">\n",
       "  <thead>\n",
       "    <tr style=\"text-align: right;\">\n",
       "      <th></th>\n",
       "      <th>LON</th>\n",
       "      <th>LAT</th>\n",
       "      <th>NUMBER</th>\n",
       "      <th>STREET</th>\n",
       "      <th>UNIT</th>\n",
       "      <th>CITY</th>\n",
       "      <th>DISTRICT</th>\n",
       "      <th>REGION</th>\n",
       "      <th>POSTCODE</th>\n",
       "      <th>ID</th>\n",
       "      <th>HASH</th>\n",
       "      <th>State</th>\n",
       "    </tr>\n",
       "  </thead>\n",
       "  <tbody>\n",
       "    <tr>\n",
       "      <th>0</th>\n",
       "      <td>-83.930694</td>\n",
       "      <td>42.020842</td>\n",
       "      <td>4587</td>\n",
       "      <td>MACON RD</td>\n",
       "      <td></td>\n",
       "      <td></td>\n",
       "      <td></td>\n",
       "      <td></td>\n",
       "      <td></td>\n",
       "      <td></td>\n",
       "      <td>0f1d71c71bb84f25</td>\n",
       "      <td>MI</td>\n",
       "    </tr>\n",
       "    <tr>\n",
       "      <th>1</th>\n",
       "      <td>-83.931370</td>\n",
       "      <td>42.020581</td>\n",
       "      <td>952</td>\n",
       "      <td>MACON RD</td>\n",
       "      <td></td>\n",
       "      <td></td>\n",
       "      <td></td>\n",
       "      <td></td>\n",
       "      <td></td>\n",
       "      <td></td>\n",
       "      <td>e063eaa401c7e1d5</td>\n",
       "      <td>MI</td>\n",
       "    </tr>\n",
       "    <tr>\n",
       "      <th>2</th>\n",
       "      <td>-83.932255</td>\n",
       "      <td>42.020563</td>\n",
       "      <td>944</td>\n",
       "      <td>MACON RD</td>\n",
       "      <td></td>\n",
       "      <td></td>\n",
       "      <td></td>\n",
       "      <td></td>\n",
       "      <td></td>\n",
       "      <td></td>\n",
       "      <td>c6b1c6f444a0684c</td>\n",
       "      <td>MI</td>\n",
       "    </tr>\n",
       "    <tr>\n",
       "      <th>3</th>\n",
       "      <td>-83.933133</td>\n",
       "      <td>42.020526</td>\n",
       "      <td>940</td>\n",
       "      <td>MACON RD</td>\n",
       "      <td></td>\n",
       "      <td></td>\n",
       "      <td></td>\n",
       "      <td></td>\n",
       "      <td></td>\n",
       "      <td></td>\n",
       "      <td>83e2941141f61fba</td>\n",
       "      <td>MI</td>\n",
       "    </tr>\n",
       "    <tr>\n",
       "      <th>4</th>\n",
       "      <td>-83.935600</td>\n",
       "      <td>42.020365</td>\n",
       "      <td>700</td>\n",
       "      <td>MACON RD BLK</td>\n",
       "      <td></td>\n",
       "      <td></td>\n",
       "      <td></td>\n",
       "      <td></td>\n",
       "      <td></td>\n",
       "      <td></td>\n",
       "      <td>40ffdb3c081d2003</td>\n",
       "      <td>MI</td>\n",
       "    </tr>\n",
       "  </tbody>\n",
       "</table>\n",
       "</div>"
      ],
      "text/plain": [
       "         LON        LAT NUMBER        STREET UNIT CITY DISTRICT REGION  \\\n",
       "0 -83.930694  42.020842   4587      MACON RD                             \n",
       "1 -83.931370  42.020581    952      MACON RD                             \n",
       "2 -83.932255  42.020563    944      MACON RD                             \n",
       "3 -83.933133  42.020526    940      MACON RD                             \n",
       "4 -83.935600  42.020365    700  MACON RD BLK                             \n",
       "\n",
       "  POSTCODE ID              HASH State  \n",
       "0              0f1d71c71bb84f25    MI  \n",
       "1              e063eaa401c7e1d5    MI  \n",
       "2              c6b1c6f444a0684c    MI  \n",
       "3              83e2941141f61fba    MI  \n",
       "4              40ffdb3c081d2003    MI  "
      ]
     },
     "execution_count": 4,
     "metadata": {},
     "output_type": "execute_result"
    }
   ],
   "source": [
    "df_mi_tecumseh['State'] = \"MI\"\n",
    "df_mi_tecumseh.head()"
   ]
  },
  {
   "cell_type": "code",
   "execution_count": 5,
   "metadata": {},
   "outputs": [
    {
     "data": {
      "text/plain": [
       "(3706, 12)"
      ]
     },
     "execution_count": 5,
     "metadata": {},
     "output_type": "execute_result"
    }
   ],
   "source": [
    "df_mi_tecumseh.shape"
   ]
  },
  {
   "cell_type": "markdown",
   "metadata": {},
   "source": [
    "### Populate CITY\n",
    "We'll assume that the city column values should be Tecumseh."
   ]
  },
  {
   "cell_type": "code",
   "execution_count": 6,
   "metadata": {},
   "outputs": [
    {
     "data": {
      "text/html": [
       "<div>\n",
       "<style scoped>\n",
       "    .dataframe tbody tr th:only-of-type {\n",
       "        vertical-align: middle;\n",
       "    }\n",
       "\n",
       "    .dataframe tbody tr th {\n",
       "        vertical-align: top;\n",
       "    }\n",
       "\n",
       "    .dataframe thead th {\n",
       "        text-align: right;\n",
       "    }\n",
       "</style>\n",
       "<table border=\"1\" class=\"dataframe\">\n",
       "  <thead>\n",
       "    <tr style=\"text-align: right;\">\n",
       "      <th></th>\n",
       "      <th>LON</th>\n",
       "      <th>LAT</th>\n",
       "      <th>NUMBER</th>\n",
       "      <th>STREET</th>\n",
       "      <th>UNIT</th>\n",
       "      <th>CITY</th>\n",
       "      <th>DISTRICT</th>\n",
       "      <th>REGION</th>\n",
       "      <th>POSTCODE</th>\n",
       "      <th>ID</th>\n",
       "      <th>HASH</th>\n",
       "      <th>State</th>\n",
       "    </tr>\n",
       "  </thead>\n",
       "  <tbody>\n",
       "    <tr>\n",
       "      <th>0</th>\n",
       "      <td>-83.930694</td>\n",
       "      <td>42.020842</td>\n",
       "      <td>4587</td>\n",
       "      <td>MACON RD</td>\n",
       "      <td></td>\n",
       "      <td>Tecumseh</td>\n",
       "      <td></td>\n",
       "      <td></td>\n",
       "      <td></td>\n",
       "      <td></td>\n",
       "      <td>0f1d71c71bb84f25</td>\n",
       "      <td>MI</td>\n",
       "    </tr>\n",
       "    <tr>\n",
       "      <th>1</th>\n",
       "      <td>-83.931370</td>\n",
       "      <td>42.020581</td>\n",
       "      <td>952</td>\n",
       "      <td>MACON RD</td>\n",
       "      <td></td>\n",
       "      <td>Tecumseh</td>\n",
       "      <td></td>\n",
       "      <td></td>\n",
       "      <td></td>\n",
       "      <td></td>\n",
       "      <td>e063eaa401c7e1d5</td>\n",
       "      <td>MI</td>\n",
       "    </tr>\n",
       "    <tr>\n",
       "      <th>2</th>\n",
       "      <td>-83.932255</td>\n",
       "      <td>42.020563</td>\n",
       "      <td>944</td>\n",
       "      <td>MACON RD</td>\n",
       "      <td></td>\n",
       "      <td>Tecumseh</td>\n",
       "      <td></td>\n",
       "      <td></td>\n",
       "      <td></td>\n",
       "      <td></td>\n",
       "      <td>c6b1c6f444a0684c</td>\n",
       "      <td>MI</td>\n",
       "    </tr>\n",
       "    <tr>\n",
       "      <th>3</th>\n",
       "      <td>-83.933133</td>\n",
       "      <td>42.020526</td>\n",
       "      <td>940</td>\n",
       "      <td>MACON RD</td>\n",
       "      <td></td>\n",
       "      <td>Tecumseh</td>\n",
       "      <td></td>\n",
       "      <td></td>\n",
       "      <td></td>\n",
       "      <td></td>\n",
       "      <td>83e2941141f61fba</td>\n",
       "      <td>MI</td>\n",
       "    </tr>\n",
       "    <tr>\n",
       "      <th>4</th>\n",
       "      <td>-83.935600</td>\n",
       "      <td>42.020365</td>\n",
       "      <td>700</td>\n",
       "      <td>MACON RD BLK</td>\n",
       "      <td></td>\n",
       "      <td>Tecumseh</td>\n",
       "      <td></td>\n",
       "      <td></td>\n",
       "      <td></td>\n",
       "      <td></td>\n",
       "      <td>40ffdb3c081d2003</td>\n",
       "      <td>MI</td>\n",
       "    </tr>\n",
       "  </tbody>\n",
       "</table>\n",
       "</div>"
      ],
      "text/plain": [
       "         LON        LAT NUMBER        STREET UNIT      CITY DISTRICT REGION  \\\n",
       "0 -83.930694  42.020842   4587      MACON RD       Tecumseh                   \n",
       "1 -83.931370  42.020581    952      MACON RD       Tecumseh                   \n",
       "2 -83.932255  42.020563    944      MACON RD       Tecumseh                   \n",
       "3 -83.933133  42.020526    940      MACON RD       Tecumseh                   \n",
       "4 -83.935600  42.020365    700  MACON RD BLK       Tecumseh                   \n",
       "\n",
       "  POSTCODE ID              HASH State  \n",
       "0              0f1d71c71bb84f25    MI  \n",
       "1              e063eaa401c7e1d5    MI  \n",
       "2              c6b1c6f444a0684c    MI  \n",
       "3              83e2941141f61fba    MI  \n",
       "4              40ffdb3c081d2003    MI  "
      ]
     },
     "execution_count": 6,
     "metadata": {},
     "output_type": "execute_result"
    }
   ],
   "source": [
    "df_mi_tecumseh['CITY'] = 'Tecumseh'\n",
    "df_mi_tecumseh.head()"
   ]
  },
  {
   "cell_type": "markdown",
   "metadata": {},
   "source": [
    "### Simplify address data\n",
    "Drop columns that aren't needed for geocoding."
   ]
  },
  {
   "cell_type": "code",
   "execution_count": 7,
   "metadata": {},
   "outputs": [
    {
     "data": {
      "text/html": [
       "<div>\n",
       "<style scoped>\n",
       "    .dataframe tbody tr th:only-of-type {\n",
       "        vertical-align: middle;\n",
       "    }\n",
       "\n",
       "    .dataframe tbody tr th {\n",
       "        vertical-align: top;\n",
       "    }\n",
       "\n",
       "    .dataframe thead th {\n",
       "        text-align: right;\n",
       "    }\n",
       "</style>\n",
       "<table border=\"1\" class=\"dataframe\">\n",
       "  <thead>\n",
       "    <tr style=\"text-align: right;\">\n",
       "      <th></th>\n",
       "      <th>NUMBER</th>\n",
       "      <th>STREET</th>\n",
       "      <th>CITY</th>\n",
       "      <th>POSTCODE</th>\n",
       "      <th>State</th>\n",
       "    </tr>\n",
       "  </thead>\n",
       "  <tbody>\n",
       "    <tr>\n",
       "      <th>0</th>\n",
       "      <td>4587</td>\n",
       "      <td>MACON RD</td>\n",
       "      <td>Tecumseh</td>\n",
       "      <td></td>\n",
       "      <td>MI</td>\n",
       "    </tr>\n",
       "    <tr>\n",
       "      <th>1</th>\n",
       "      <td>952</td>\n",
       "      <td>MACON RD</td>\n",
       "      <td>Tecumseh</td>\n",
       "      <td></td>\n",
       "      <td>MI</td>\n",
       "    </tr>\n",
       "    <tr>\n",
       "      <th>2</th>\n",
       "      <td>944</td>\n",
       "      <td>MACON RD</td>\n",
       "      <td>Tecumseh</td>\n",
       "      <td></td>\n",
       "      <td>MI</td>\n",
       "    </tr>\n",
       "    <tr>\n",
       "      <th>3</th>\n",
       "      <td>940</td>\n",
       "      <td>MACON RD</td>\n",
       "      <td>Tecumseh</td>\n",
       "      <td></td>\n",
       "      <td>MI</td>\n",
       "    </tr>\n",
       "    <tr>\n",
       "      <th>4</th>\n",
       "      <td>700</td>\n",
       "      <td>MACON RD BLK</td>\n",
       "      <td>Tecumseh</td>\n",
       "      <td></td>\n",
       "      <td>MI</td>\n",
       "    </tr>\n",
       "  </tbody>\n",
       "</table>\n",
       "</div>"
      ],
      "text/plain": [
       "  NUMBER        STREET      CITY POSTCODE State\n",
       "0   4587      MACON RD  Tecumseh             MI\n",
       "1    952      MACON RD  Tecumseh             MI\n",
       "2    944      MACON RD  Tecumseh             MI\n",
       "3    940      MACON RD  Tecumseh             MI\n",
       "4    700  MACON RD BLK  Tecumseh             MI"
      ]
     },
     "execution_count": 7,
     "metadata": {},
     "output_type": "execute_result"
    }
   ],
   "source": [
    "df_mi_tecumseh.drop(columns=['LON', 'LAT', 'UNIT', 'DISTRICT', 'REGION', 'ID', 'HASH'], inplace=True)\n",
    "df_mi_tecumseh.head()"
   ]
  },
  {
   "cell_type": "markdown",
   "metadata": {},
   "source": [
    "Create an address column from the `NUMBER` and `STREET` columns. This is how the geocoder is expecting to get the address information."
   ]
  },
  {
   "cell_type": "code",
   "execution_count": 8,
   "metadata": {},
   "outputs": [
    {
     "data": {
      "text/html": [
       "<div>\n",
       "<style scoped>\n",
       "    .dataframe tbody tr th:only-of-type {\n",
       "        vertical-align: middle;\n",
       "    }\n",
       "\n",
       "    .dataframe tbody tr th {\n",
       "        vertical-align: top;\n",
       "    }\n",
       "\n",
       "    .dataframe thead th {\n",
       "        text-align: right;\n",
       "    }\n",
       "</style>\n",
       "<table border=\"1\" class=\"dataframe\">\n",
       "  <thead>\n",
       "    <tr style=\"text-align: right;\">\n",
       "      <th></th>\n",
       "      <th>NUMBER</th>\n",
       "      <th>STREET</th>\n",
       "      <th>CITY</th>\n",
       "      <th>POSTCODE</th>\n",
       "      <th>State</th>\n",
       "      <th>Address</th>\n",
       "    </tr>\n",
       "  </thead>\n",
       "  <tbody>\n",
       "    <tr>\n",
       "      <th>0</th>\n",
       "      <td>4587</td>\n",
       "      <td>MACON RD</td>\n",
       "      <td>Tecumseh</td>\n",
       "      <td></td>\n",
       "      <td>MI</td>\n",
       "      <td>4587 MACON RD</td>\n",
       "    </tr>\n",
       "    <tr>\n",
       "      <th>1</th>\n",
       "      <td>952</td>\n",
       "      <td>MACON RD</td>\n",
       "      <td>Tecumseh</td>\n",
       "      <td></td>\n",
       "      <td>MI</td>\n",
       "      <td>952 MACON RD</td>\n",
       "    </tr>\n",
       "    <tr>\n",
       "      <th>2</th>\n",
       "      <td>944</td>\n",
       "      <td>MACON RD</td>\n",
       "      <td>Tecumseh</td>\n",
       "      <td></td>\n",
       "      <td>MI</td>\n",
       "      <td>944 MACON RD</td>\n",
       "    </tr>\n",
       "    <tr>\n",
       "      <th>3</th>\n",
       "      <td>940</td>\n",
       "      <td>MACON RD</td>\n",
       "      <td>Tecumseh</td>\n",
       "      <td></td>\n",
       "      <td>MI</td>\n",
       "      <td>940 MACON RD</td>\n",
       "    </tr>\n",
       "    <tr>\n",
       "      <th>4</th>\n",
       "      <td>700</td>\n",
       "      <td>MACON RD BLK</td>\n",
       "      <td>Tecumseh</td>\n",
       "      <td></td>\n",
       "      <td>MI</td>\n",
       "      <td>700 MACON RD BLK</td>\n",
       "    </tr>\n",
       "  </tbody>\n",
       "</table>\n",
       "</div>"
      ],
      "text/plain": [
       "  NUMBER        STREET      CITY POSTCODE State           Address\n",
       "0   4587      MACON RD  Tecumseh             MI     4587 MACON RD\n",
       "1    952      MACON RD  Tecumseh             MI      952 MACON RD\n",
       "2    944      MACON RD  Tecumseh             MI      944 MACON RD\n",
       "3    940      MACON RD  Tecumseh             MI      940 MACON RD\n",
       "4    700  MACON RD BLK  Tecumseh             MI  700 MACON RD BLK"
      ]
     },
     "execution_count": 8,
     "metadata": {},
     "output_type": "execute_result"
    }
   ],
   "source": [
    "df_mi_tecumseh['Address'] = df_mi_tecumseh['NUMBER'] + ' ' + df_mi_tecumseh['STREET']\n",
    "df_mi_tecumseh.head()"
   ]
  },
  {
   "cell_type": "markdown",
   "metadata": {},
   "source": [
    "Reorder the dataframe and remove `NUMBER` and `STREET` columns."
   ]
  },
  {
   "cell_type": "code",
   "execution_count": 9,
   "metadata": {},
   "outputs": [
    {
     "data": {
      "text/html": [
       "<div>\n",
       "<style scoped>\n",
       "    .dataframe tbody tr th:only-of-type {\n",
       "        vertical-align: middle;\n",
       "    }\n",
       "\n",
       "    .dataframe tbody tr th {\n",
       "        vertical-align: top;\n",
       "    }\n",
       "\n",
       "    .dataframe thead th {\n",
       "        text-align: right;\n",
       "    }\n",
       "</style>\n",
       "<table border=\"1\" class=\"dataframe\">\n",
       "  <thead>\n",
       "    <tr style=\"text-align: right;\">\n",
       "      <th></th>\n",
       "      <th>Address</th>\n",
       "      <th>CITY</th>\n",
       "      <th>POSTCODE</th>\n",
       "      <th>State</th>\n",
       "    </tr>\n",
       "  </thead>\n",
       "  <tbody>\n",
       "    <tr>\n",
       "      <th>0</th>\n",
       "      <td>4587 MACON RD</td>\n",
       "      <td>Tecumseh</td>\n",
       "      <td></td>\n",
       "      <td>MI</td>\n",
       "    </tr>\n",
       "    <tr>\n",
       "      <th>1</th>\n",
       "      <td>952 MACON RD</td>\n",
       "      <td>Tecumseh</td>\n",
       "      <td></td>\n",
       "      <td>MI</td>\n",
       "    </tr>\n",
       "    <tr>\n",
       "      <th>2</th>\n",
       "      <td>944 MACON RD</td>\n",
       "      <td>Tecumseh</td>\n",
       "      <td></td>\n",
       "      <td>MI</td>\n",
       "    </tr>\n",
       "    <tr>\n",
       "      <th>3</th>\n",
       "      <td>940 MACON RD</td>\n",
       "      <td>Tecumseh</td>\n",
       "      <td></td>\n",
       "      <td>MI</td>\n",
       "    </tr>\n",
       "    <tr>\n",
       "      <th>4</th>\n",
       "      <td>700 MACON RD BLK</td>\n",
       "      <td>Tecumseh</td>\n",
       "      <td></td>\n",
       "      <td>MI</td>\n",
       "    </tr>\n",
       "  </tbody>\n",
       "</table>\n",
       "</div>"
      ],
      "text/plain": [
       "            Address      CITY POSTCODE State\n",
       "0     4587 MACON RD  Tecumseh             MI\n",
       "1      952 MACON RD  Tecumseh             MI\n",
       "2      944 MACON RD  Tecumseh             MI\n",
       "3      940 MACON RD  Tecumseh             MI\n",
       "4  700 MACON RD BLK  Tecumseh             MI"
      ]
     },
     "execution_count": 9,
     "metadata": {},
     "output_type": "execute_result"
    }
   ],
   "source": [
    "df_mi_tecumseh = df_mi_tecumseh[['Address', 'CITY', 'POSTCODE', 'State']]\n",
    "df_mi_tecumseh.head()"
   ]
  },
  {
   "cell_type": "markdown",
   "metadata": {},
   "source": [
    "## Sample 100 addresses to geocode"
   ]
  },
  {
   "cell_type": "code",
   "execution_count": 10,
   "metadata": {},
   "outputs": [
    {
     "name": "stdout",
     "output_type": "stream",
     "text": [
      "Sampled dataframe shape: (100, 4)\n"
     ]
    }
   ],
   "source": [
    "df_mi_tecumseh_100 = df_mi_tecumseh.sample(n=100, replace=True, random_state=1)\n",
    "print(\"Sampled dataframe shape:\", df_mi_tecumseh_100.shape)"
   ]
  },
  {
   "cell_type": "code",
   "execution_count": 11,
   "metadata": {},
   "outputs": [
    {
     "data": {
      "text/html": [
       "<div>\n",
       "<style scoped>\n",
       "    .dataframe tbody tr th:only-of-type {\n",
       "        vertical-align: middle;\n",
       "    }\n",
       "\n",
       "    .dataframe tbody tr th {\n",
       "        vertical-align: top;\n",
       "    }\n",
       "\n",
       "    .dataframe thead th {\n",
       "        text-align: right;\n",
       "    }\n",
       "</style>\n",
       "<table border=\"1\" class=\"dataframe\">\n",
       "  <thead>\n",
       "    <tr style=\"text-align: right;\">\n",
       "      <th></th>\n",
       "      <th>Address</th>\n",
       "      <th>CITY</th>\n",
       "      <th>POSTCODE</th>\n",
       "      <th>State</th>\n",
       "    </tr>\n",
       "  </thead>\n",
       "  <tbody>\n",
       "    <tr>\n",
       "      <th>1061</th>\n",
       "      <td>315 W SHAWNEE ST</td>\n",
       "      <td>Tecumseh</td>\n",
       "      <td></td>\n",
       "      <td>MI</td>\n",
       "    </tr>\n",
       "    <tr>\n",
       "      <th>235</th>\n",
       "      <td>907 N UNION ST</td>\n",
       "      <td>Tecumseh</td>\n",
       "      <td></td>\n",
       "      <td>MI</td>\n",
       "    </tr>\n",
       "    <tr>\n",
       "      <th>1096</th>\n",
       "      <td>301 W SHAWNEE ST</td>\n",
       "      <td>Tecumseh</td>\n",
       "      <td></td>\n",
       "      <td>MI</td>\n",
       "    </tr>\n",
       "    <tr>\n",
       "      <th>905</th>\n",
       "      <td>404 BURT ST</td>\n",
       "      <td>Tecumseh</td>\n",
       "      <td></td>\n",
       "      <td>MI</td>\n",
       "    </tr>\n",
       "    <tr>\n",
       "      <th>2763</th>\n",
       "      <td>605 ADRIAN ST</td>\n",
       "      <td>Tecumseh</td>\n",
       "      <td></td>\n",
       "      <td>MI</td>\n",
       "    </tr>\n",
       "  </tbody>\n",
       "</table>\n",
       "</div>"
      ],
      "text/plain": [
       "               Address      CITY POSTCODE State\n",
       "1061  315 W SHAWNEE ST  Tecumseh             MI\n",
       "235     907 N UNION ST  Tecumseh             MI\n",
       "1096  301 W SHAWNEE ST  Tecumseh             MI\n",
       "905        404 BURT ST  Tecumseh             MI\n",
       "2763     605 ADRIAN ST  Tecumseh             MI"
      ]
     },
     "execution_count": 11,
     "metadata": {},
     "output_type": "execute_result"
    }
   ],
   "source": [
    "df_mi_tecumseh_100.head()"
   ]
  },
  {
   "cell_type": "markdown",
   "metadata": {},
   "source": [
    "## Geocode Sample Addresses\n",
    "Use the Esri World Geocoder Server to geocode the sample addresses.\n",
    "\n",
    "This service has a max and suggested batch size. If the number of addresses exceeds the max batch size, the addresses will need to be processed in multiple batches.\n",
    "\n",
    "More info: https://developers.arcgis.com/python/guide/batch-geocoding/\n",
    "\n",
    "Accessing & Creating Content: https://developers.arcgis.com/python/guide/accessing-and-creating-content/"
   ]
  },
  {
   "cell_type": "code",
   "execution_count": 12,
   "metadata": {},
   "outputs": [
    {
     "name": "stdout",
     "output_type": "stream",
     "text": [
      "Geocoder: <Geocoder url:\"https://geocode.arcgis.com/arcgis/rest/services/World/GeocodeServer\">\n",
      "MaxBatchSize : 1000\n",
      "SuggestedBatchSize : 150\n"
     ]
    }
   ],
   "source": [
    "# Use the first of GIS's configured geocoders\n",
    "geocoder = get_geocoders(gis)[0]\n",
    "print(\"Geocoder:\", geocoder)\n",
    "\n",
    "# Display batch size settings for Geocoder\n",
    "print(\"MaxBatchSize : \" + str(geocoder.properties.locatorProperties.MaxBatchSize))\n",
    "print(\"SuggestedBatchSize : \" + str(geocoder.properties.locatorProperties.SuggestedBatchSize))"
   ]
  },
  {
   "cell_type": "markdown",
   "metadata": {},
   "source": [
    "### Convert to dictionary\n",
    "The geocoder needs to be passed a list or dictionary."
   ]
  },
  {
   "cell_type": "code",
   "execution_count": 13,
   "metadata": {},
   "outputs": [],
   "source": [
    "geocode_addresses = df_mi_tecumseh_100.to_dict('r')"
   ]
  },
  {
   "cell_type": "markdown",
   "metadata": {},
   "source": [
    "### Geocode addresses"
   ]
  },
  {
   "cell_type": "code",
   "execution_count": 14,
   "metadata": {},
   "outputs": [],
   "source": [
    "geocode_results = batch_geocode(geocode_addresses)"
   ]
  },
  {
   "cell_type": "markdown",
   "metadata": {},
   "source": [
    "Load results into a dataframe and examine match scores."
   ]
  },
  {
   "cell_type": "code",
   "execution_count": 15,
   "metadata": {},
   "outputs": [
    {
     "data": {
      "text/plain": [
       "count    100.000000\n",
       "mean      99.777900\n",
       "std        0.740106\n",
       "min       95.830000\n",
       "25%      100.000000\n",
       "50%      100.000000\n",
       "75%      100.000000\n",
       "max      100.000000\n",
       "Name: score, dtype: float64"
      ]
     },
     "execution_count": 15,
     "metadata": {},
     "output_type": "execute_result"
    }
   ],
   "source": [
    "df_geocode_results = pd.DataFrame(data=geocode_results)\n",
    "df_geocode_results['score'].describe()"
   ]
  },
  {
   "cell_type": "markdown",
   "metadata": {},
   "source": [
    "### Visual check of geocode results"
   ]
  },
  {
   "cell_type": "code",
   "execution_count": 16,
   "metadata": {},
   "outputs": [
    {
     "data": {
      "application/vnd.jupyter.widget-view+json": {
       "model_id": "219ad04b85244d028ff7bbb7ce182041",
       "version_major": 2,
       "version_minor": 0
      },
      "text/plain": [
       "MapView(layout=Layout(height='400px', width='100%'), zoom=13.0)"
      ]
     },
     "metadata": {},
     "output_type": "display_data"
    },
    {
     "data": {
      "text/html": [
       "<div class=\"map-static-img-preview-afb36e3d-5891-4893-918d-095524fcdd3c\"><img src=\"\"></img></div>"
      ],
      "text/plain": [
       "<IPython.core.display.HTML object>"
      ]
     },
     "metadata": {},
     "output_type": "display_data"
    }
   ],
   "source": [
    "map = gis.map(\"Tecumseh, Michigan\", 13)\n",
    "map"
   ]
  },
  {
   "cell_type": "code",
   "execution_count": 17,
   "metadata": {},
   "outputs": [],
   "source": [
    "for address in geocode_results:\n",
    "    map.draw(\n",
    "        address['location'], \n",
    "        symbol = {\"angle\":0,\"xoffset\":0,\"yoffset\":10,\"type\":\"esriPMS\",\"url\":\"http://static.arcgis.com/images/Symbols/Shapes/RedPin1LargeB.png\",\"contentType\":\"image/png\",\"width\":24,\"height\":24}\n",
    "    )"
   ]
  }
 ],
 "metadata": {
  "kernelspec": {
   "display_name": "Python 3",
   "language": "python",
   "name": "python3"
  },
  "language_info": {
   "codemirror_mode": {
    "name": "ipython",
    "version": 3
   },
   "file_extension": ".py",
   "mimetype": "text/x-python",
   "name": "python",
   "nbconvert_exporter": "python",
   "pygments_lexer": "ipython3",
   "version": "3.6.8"
  }
 },
 "nbformat": 4,
 "nbformat_minor": 2
}
